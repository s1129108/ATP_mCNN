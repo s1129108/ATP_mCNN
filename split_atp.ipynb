{
 "cells": [
  {
   "cell_type": "markdown",
   "id": "9715d217-ef31-4761-9680-a3ba32db098f",
   "metadata": {},
   "source": [
    "# split fasta"
   ]
  },
  {
   "cell_type": "code",
   "execution_count": 3,
   "id": "6d91c885-d37f-4c37-86d8-f55a21d83b0b",
   "metadata": {},
   "outputs": [],
   "source": [
    "import os\n",
    "import time\n",
    "from tqdm import tqdm"
   ]
  },
  {
   "cell_type": "code",
   "execution_count": 4,
   "id": "d7b02f60-a1a2-47b1-8c2e-9ae4c62a63ef",
   "metadata": {},
   "outputs": [
    {
     "name": "stdout",
     "output_type": "stream",
     "text": [
      "/media/b1607/E/jupyterlab_space/atp_binding/data\n"
     ]
    }
   ],
   "source": [
    "print(os.getcwd())"
   ]
  },
  {
   "cell_type": "code",
   "execution_count": 5,
   "id": "ea8254ee-0d47-42a5-b1f3-eb7ecfc29f69",
   "metadata": {},
   "outputs": [],
   "source": [
    "def write_fasta(path,name,fasta):\n",
    "    with open(path, \"w\") as s:                \n",
    "            s.write(\">\"+name+\"\\n\")\n",
    "            s.write(fasta)"
   ]
  },
  {
   "cell_type": "code",
   "execution_count": 6,
   "id": "c316a78e-c5be-4fc9-a646-ae41be5d8d42",
   "metadata": {},
   "outputs": [],
   "source": [
    "def write_label(path,name,label):\n",
    "    with open(path, \"w\") as s:                \n",
    "            s.write(name+\"\\n\")\n",
    "            s.write(label)"
   ]
  },
  {
   "cell_type": "code",
   "execution_count": 7,
   "id": "c8cea1a7-1158-462d-8b19-354854d19515",
   "metadata": {},
   "outputs": [],
   "source": [
    "def read(input_file,output_seq):\n",
    "    with open(input_file) as data:\n",
    "        Line = data.readlines()\n",
    "    #print(Line)    \n",
    "    progress = tqdm(total=len(Line))\n",
    "\n",
    "\n",
    "    path=\"\"\n",
    "    i=0\n",
    "    while i < len(Line):\n",
    "        \n",
    "        if \"   \" in Line[i]:\n",
    "            name = Line[i].split(\"   \")[0]\n",
    "            fasta=Line[i].split(\"   \")[1]\n",
    "            label=Line[i+1].split(\"   \")[1]\n",
    "            #print(name)\n",
    "            #print(fasta)\n",
    "            #print(label)\n",
    "            i+=2\n",
    "            path_fasta=output_seq+\"/seq/\"+name + \".fasta\"\n",
    "            path_label=output_seq+\"/label/\"+name + \".label\"\n",
    "            write_fasta(path_fasta,name,fasta)\n",
    "            write_label(path_label,name,label)\n",
    "            #print(path)\n",
    "            progress.update(2)\n",
    "        \n",
    "       \n",
    "    "
   ]
  },
  {
   "cell_type": "code",
   "execution_count": 8,
   "id": "6fdba098-d239-46f7-adfa-496b4aba05fe",
   "metadata": {},
   "outputs": [
    {
     "name": "stderr",
     "output_type": "stream",
     "text": [
      "100%|█████████████████████████████████████████████████████████████████████████████| 34/34 [00:00<00:00, 40024.23it/s]\n"
     ]
    }
   ],
   "source": [
    "input_file = \"/media/b1607/E/jupyterlab_space/atp_binding/data/old227+17/atp-17.txt\"\n",
    "output_seq = \"/media/b1607/E/jupyterlab_space/atp_binding/data/FASTA/old227+17/atp-17\"\n",
    "read(input_file,output_seq )"
   ]
  },
  {
   "cell_type": "code",
   "execution_count": 9,
   "id": "64cfd851-819d-4ead-9cac-7259afd4d8f7",
   "metadata": {
    "tags": []
   },
   "outputs": [
    {
     "name": "stderr",
     "output_type": "stream",
     "text": [
      "100%|████████████████████████████████████████████████████████████████████████████| 454/454 [00:00<00:00, 7399.37it/s]\n"
     ]
    }
   ],
   "source": [
    "input_file = \"/media/b1607/E/jupyterlab_space/atp_binding/data/old227+17/atp-227.txt\"\n",
    "output_seq = \"/media/b1607/E/jupyterlab_space/atp_binding/data/FASTA/old227+17/atp-227\"\n",
    "read(input_file,output_seq )\n"
   ]
  },
  {
   "cell_type": "code",
   "execution_count": null,
   "id": "af1b09c0-bbcb-439e-93ca-df1e92782cd1",
   "metadata": {},
   "outputs": [
    {
     "name": "stderr",
     "output_type": "stream",
     "text": [
      "100%|████████████████████████████████████████████████████████████████████████████| 776/776 [00:00<00:00, 6801.15it/s]\n"
     ]
    }
   ],
   "source": [
    "input_file = \"/media/b1607/E/jupyterlab_space/atp_binding/data/new388+41/atp-388.txt\"\n",
    "output_seq = \"/media/b1607/E/jupyterlab_space/atp_binding/data/FASTA/new388+41/atp-388\"\n",
    "read(input_file,output_seq )"
   ]
  },
  {
   "cell_type": "code",
   "execution_count": null,
   "id": "c9470c64-9e6b-4202-b8dd-3ebf90bc71ed",
   "metadata": {},
   "outputs": [
    {
     "name": "stderr",
     "output_type": "stream",
     "text": [
      "100%|██████████████████████████████████████████████████████████████████████████████| 82/82 [00:00<00:00, 6160.91it/s]\n"
     ]
    }
   ],
   "source": [
    "input_file = \"/media/b1607/E/jupyterlab_space/atp_binding/data/new388+41/atp-41.txt\"\n",
    "output_seq = \"/media/b1607/E/jupyterlab_space/atp_binding/data/FASTA/new388+41/atp-41\"\n",
    "read(input_file,output_seq )"
   ]
  },
  {
   "cell_type": "code",
   "execution_count": null,
   "id": "f9ed08c5-1603-4ebb-ad83-cf887a93c505",
   "metadata": {},
   "outputs": [],
   "source": []
  },
  {
   "cell_type": "code",
   "execution_count": null,
   "id": "e573df55-bcca-4f61-a89d-aafe6660935f",
   "metadata": {},
   "outputs": [],
   "source": []
  },
  {
   "cell_type": "code",
   "execution_count": null,
   "id": "28217ea2-bc06-41d7-917a-f5e68c7cb2db",
   "metadata": {},
   "outputs": [],
   "source": []
  },
  {
   "cell_type": "code",
   "execution_count": null,
   "id": "bed3b424-a067-4bfd-a9fe-dc08f7231e29",
   "metadata": {},
   "outputs": [],
   "source": []
  }
 ],
 "metadata": {
  "kernelspec": {
   "display_name": "Python 3 (ipykernel)",
   "language": "python",
   "name": "python3"
  },
  "language_info": {
   "codemirror_mode": {
    "name": "ipython",
    "version": 3
   },
   "file_extension": ".py",
   "mimetype": "text/x-python",
   "name": "python",
   "nbconvert_exporter": "python",
   "pygments_lexer": "ipython3",
   "version": "3.9.13"
  }
 },
 "nbformat": 4,
 "nbformat_minor": 5
}
